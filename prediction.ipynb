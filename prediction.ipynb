{
 "cells": [
  {
   "cell_type": "code",
   "execution_count": 1,
   "metadata": {},
   "outputs": [],
   "source": [
    "# Step 1: Import Libraries and Load the Model\n",
    "import numpy as np\n",
    "import tensorflow as tf\n",
    "from tensorflow.keras.datasets import imdb\n",
    "from tensorflow.keras.preprocessing import sequence\n",
    "from tensorflow.keras.models import load_model"
   ]
  },
  {
   "cell_type": "code",
   "execution_count": 2,
   "metadata": {},
   "outputs": [],
   "source": [
    "\n",
    "# Load the IMDB dataset word index\n",
    "word_index = imdb.get_word_index()\n",
    "reverse_word_index = {value: key for key, value in word_index.items()}"
   ]
  },
  {
   "cell_type": "code",
   "execution_count": 3,
   "metadata": {},
   "outputs": [
    {
     "name": "stderr",
     "output_type": "stream",
     "text": [
      "WARNING:absl:Compiled the loaded model, but the compiled metrics have yet to be built. `model.compile_metrics` will be empty until you train or evaluate the model.\n"
     ]
    },
    {
     "data": {
      "text/html": [
       "<pre style=\"white-space:pre;overflow-x:auto;line-height:normal;font-family:Menlo,'DejaVu Sans Mono',consolas,'Courier New',monospace\"><span style=\"font-weight: bold\">Model: \"sequential\"</span>\n",
       "</pre>\n"
      ],
      "text/plain": [
       "\u001b[1mModel: \"sequential\"\u001b[0m\n"
      ]
     },
     "metadata": {},
     "output_type": "display_data"
    },
    {
     "data": {
      "text/html": [
       "<pre style=\"white-space:pre;overflow-x:auto;line-height:normal;font-family:Menlo,'DejaVu Sans Mono',consolas,'Courier New',monospace\">┏━━━━━━━━━━━━━━━━━━━━━━━━━━━━━━━━━┳━━━━━━━━━━━━━━━━━━━━━━━━┳━━━━━━━━━━━━━━━┓\n",
       "┃<span style=\"font-weight: bold\"> Layer (type)                    </span>┃<span style=\"font-weight: bold\"> Output Shape           </span>┃<span style=\"font-weight: bold\">       Param # </span>┃\n",
       "┡━━━━━━━━━━━━━━━━━━━━━━━━━━━━━━━━━╇━━━━━━━━━━━━━━━━━━━━━━━━╇━━━━━━━━━━━━━━━┩\n",
       "│ embedding (<span style=\"color: #0087ff; text-decoration-color: #0087ff\">Embedding</span>)           │ (<span style=\"color: #00af00; text-decoration-color: #00af00\">32</span>, <span style=\"color: #00af00; text-decoration-color: #00af00\">500</span>, <span style=\"color: #00af00; text-decoration-color: #00af00\">128</span>)         │     <span style=\"color: #00af00; text-decoration-color: #00af00\">1,280,000</span> │\n",
       "├─────────────────────────────────┼────────────────────────┼───────────────┤\n",
       "│ simple_rnn (<span style=\"color: #0087ff; text-decoration-color: #0087ff\">SimpleRNN</span>)          │ (<span style=\"color: #00af00; text-decoration-color: #00af00\">32</span>, <span style=\"color: #00af00; text-decoration-color: #00af00\">128</span>)              │        <span style=\"color: #00af00; text-decoration-color: #00af00\">32,896</span> │\n",
       "├─────────────────────────────────┼────────────────────────┼───────────────┤\n",
       "│ dense (<span style=\"color: #0087ff; text-decoration-color: #0087ff\">Dense</span>)                   │ (<span style=\"color: #00af00; text-decoration-color: #00af00\">32</span>, <span style=\"color: #00af00; text-decoration-color: #00af00\">1</span>)                │           <span style=\"color: #00af00; text-decoration-color: #00af00\">129</span> │\n",
       "└─────────────────────────────────┴────────────────────────┴───────────────┘\n",
       "</pre>\n"
      ],
      "text/plain": [
       "┏━━━━━━━━━━━━━━━━━━━━━━━━━━━━━━━━━┳━━━━━━━━━━━━━━━━━━━━━━━━┳━━━━━━━━━━━━━━━┓\n",
       "┃\u001b[1m \u001b[0m\u001b[1mLayer (type)                   \u001b[0m\u001b[1m \u001b[0m┃\u001b[1m \u001b[0m\u001b[1mOutput Shape          \u001b[0m\u001b[1m \u001b[0m┃\u001b[1m \u001b[0m\u001b[1m      Param #\u001b[0m\u001b[1m \u001b[0m┃\n",
       "┡━━━━━━━━━━━━━━━━━━━━━━━━━━━━━━━━━╇━━━━━━━━━━━━━━━━━━━━━━━━╇━━━━━━━━━━━━━━━┩\n",
       "│ embedding (\u001b[38;5;33mEmbedding\u001b[0m)           │ (\u001b[38;5;34m32\u001b[0m, \u001b[38;5;34m500\u001b[0m, \u001b[38;5;34m128\u001b[0m)         │     \u001b[38;5;34m1,280,000\u001b[0m │\n",
       "├─────────────────────────────────┼────────────────────────┼───────────────┤\n",
       "│ simple_rnn (\u001b[38;5;33mSimpleRNN\u001b[0m)          │ (\u001b[38;5;34m32\u001b[0m, \u001b[38;5;34m128\u001b[0m)              │        \u001b[38;5;34m32,896\u001b[0m │\n",
       "├─────────────────────────────────┼────────────────────────┼───────────────┤\n",
       "│ dense (\u001b[38;5;33mDense\u001b[0m)                   │ (\u001b[38;5;34m32\u001b[0m, \u001b[38;5;34m1\u001b[0m)                │           \u001b[38;5;34m129\u001b[0m │\n",
       "└─────────────────────────────────┴────────────────────────┴───────────────┘\n"
      ]
     },
     "metadata": {},
     "output_type": "display_data"
    },
    {
     "data": {
      "text/html": [
       "<pre style=\"white-space:pre;overflow-x:auto;line-height:normal;font-family:Menlo,'DejaVu Sans Mono',consolas,'Courier New',monospace\"><span style=\"font-weight: bold\"> Total params: </span><span style=\"color: #00af00; text-decoration-color: #00af00\">1,313,027</span> (5.01 MB)\n",
       "</pre>\n"
      ],
      "text/plain": [
       "\u001b[1m Total params: \u001b[0m\u001b[38;5;34m1,313,027\u001b[0m (5.01 MB)\n"
      ]
     },
     "metadata": {},
     "output_type": "display_data"
    },
    {
     "data": {
      "text/html": [
       "<pre style=\"white-space:pre;overflow-x:auto;line-height:normal;font-family:Menlo,'DejaVu Sans Mono',consolas,'Courier New',monospace\"><span style=\"font-weight: bold\"> Trainable params: </span><span style=\"color: #00af00; text-decoration-color: #00af00\">1,313,025</span> (5.01 MB)\n",
       "</pre>\n"
      ],
      "text/plain": [
       "\u001b[1m Trainable params: \u001b[0m\u001b[38;5;34m1,313,025\u001b[0m (5.01 MB)\n"
      ]
     },
     "metadata": {},
     "output_type": "display_data"
    },
    {
     "data": {
      "text/html": [
       "<pre style=\"white-space:pre;overflow-x:auto;line-height:normal;font-family:Menlo,'DejaVu Sans Mono',consolas,'Courier New',monospace\"><span style=\"font-weight: bold\"> Non-trainable params: </span><span style=\"color: #00af00; text-decoration-color: #00af00\">0</span> (0.00 B)\n",
       "</pre>\n"
      ],
      "text/plain": [
       "\u001b[1m Non-trainable params: \u001b[0m\u001b[38;5;34m0\u001b[0m (0.00 B)\n"
      ]
     },
     "metadata": {},
     "output_type": "display_data"
    },
    {
     "data": {
      "text/html": [
       "<pre style=\"white-space:pre;overflow-x:auto;line-height:normal;font-family:Menlo,'DejaVu Sans Mono',consolas,'Courier New',monospace\"><span style=\"font-weight: bold\"> Optimizer params: </span><span style=\"color: #00af00; text-decoration-color: #00af00\">2</span> (12.00 B)\n",
       "</pre>\n"
      ],
      "text/plain": [
       "\u001b[1m Optimizer params: \u001b[0m\u001b[38;5;34m2\u001b[0m (12.00 B)\n"
      ]
     },
     "metadata": {},
     "output_type": "display_data"
    }
   ],
   "source": [
    "# Load the pre-trained model with ReLU activation\n",
    "model = load_model('simple_rnn_imdb.h5')\n",
    "model.summary()"
   ]
  },
  {
   "cell_type": "code",
   "execution_count": 4,
   "metadata": {},
   "outputs": [
    {
     "data": {
      "text/plain": [
       "[array([[ 0.8784725 , -0.02858468,  0.06718387, ..., -0.15505849,\n",
       "         -0.40480852, -0.56756806],\n",
       "        [ 0.06478305, -0.07168308,  0.02929876, ..., -0.02259642,\n",
       "          0.01241738, -0.02308479],\n",
       "        [ 0.03042488, -0.06492416,  0.10426599, ..., -0.00566245,\n",
       "         -0.05901481, -0.12737924],\n",
       "        ...,\n",
       "        [ 0.01064661, -0.00822319, -0.04957722, ...,  0.04204493,\n",
       "          0.03329112, -0.02982473],\n",
       "        [ 0.05763441, -0.01494766,  0.04612032, ...,  0.08975471,\n",
       "         -0.01783507, -0.03533753],\n",
       "        [-0.0627267 , -0.07162215, -0.02417375, ..., -0.05949364,\n",
       "          0.04214131,  0.06955595]], dtype=float32),\n",
       " array([[-0.0258644 , -0.05141305, -0.081675  , ..., -0.05484862,\n",
       "         -0.07386869, -0.07012587],\n",
       "        [-0.1846002 ,  0.0690771 , -0.13962841, ..., -0.12247509,\n",
       "         -0.01502512, -0.05159717],\n",
       "        [ 0.112803  , -0.0535199 , -0.09379671, ...,  0.04750531,\n",
       "         -0.10067596, -0.14907008],\n",
       "        ...,\n",
       "        [-0.02572121,  0.0912393 ,  0.11487582, ..., -0.03114073,\n",
       "         -0.04335162, -0.08256724],\n",
       "        [-0.01314846, -0.09343961, -0.07719072, ...,  0.0470202 ,\n",
       "          0.13358665,  0.1276326 ],\n",
       "        [ 0.05399626,  0.05183277, -0.11692648, ...,  0.01845756,\n",
       "          0.00600432, -0.02285973]], dtype=float32),\n",
       " array([[-0.04361129,  0.23019114, -0.17196703, ..., -0.01136131,\n",
       "         -0.3380624 , -0.16081683],\n",
       "        [ 0.09023006,  0.15530707,  0.05953726, ..., -0.06321678,\n",
       "         -0.08302654, -0.20771474],\n",
       "        [-0.08143387,  0.00532438, -0.12115895, ..., -0.03538545,\n",
       "          0.05811844, -0.14266314],\n",
       "        ...,\n",
       "        [-0.04982603, -0.11661497,  0.10900881, ...,  0.03312796,\n",
       "          0.02588312, -0.01200304],\n",
       "        [-0.02939758, -0.08379976, -0.03362733, ...,  0.05621469,\n",
       "         -0.00712527,  0.0444979 ],\n",
       "        [ 0.18523054,  0.01550327, -0.00512577, ..., -0.06286245,\n",
       "         -0.05371711,  0.03911566]], dtype=float32),\n",
       " array([-0.00174381, -0.0195965 , -0.06888536, -0.05462378, -0.02762316,\n",
       "        -0.04365113, -0.0336153 ,  0.033106  , -0.03198732, -0.02135686,\n",
       "        -0.07627414,  0.02501106, -0.03448965, -0.02387517,  0.03885169,\n",
       "        -0.00855603,  0.03257344, -0.05343488, -0.08488966, -0.04442979,\n",
       "         0.00135162,  0.03970575, -0.02176612,  0.00659199, -0.02102908,\n",
       "        -0.00516875, -0.05438179, -0.04263277, -0.03590969,  0.0554792 ,\n",
       "        -0.00379836, -0.03847558, -0.04036627,  0.01604695, -0.0775265 ,\n",
       "        -0.05269017,  0.05954729, -0.03157698, -0.02563388, -0.00023227,\n",
       "        -0.00146725,  0.02424522,  0.04946809, -0.01638115,  0.0560138 ,\n",
       "        -0.04847041,  0.01472498,  0.04099245, -0.01377693, -0.01137081,\n",
       "         0.00328445, -0.03912436,  0.00219517, -0.02423951, -0.00099127,\n",
       "        -0.01968006, -0.06380167,  0.01061624,  0.0450553 , -0.02349116,\n",
       "        -0.03413157,  0.05295025, -0.01525242, -0.04414722, -0.03441667,\n",
       "         0.01105735,  0.02151638,  0.01766198, -0.08582825, -0.01644737,\n",
       "        -0.00557922, -0.04608214, -0.07897214,  0.01713308,  0.04663227,\n",
       "        -0.05192506,  0.05975536, -0.06031221, -0.00806031, -0.07082756,\n",
       "        -0.00177908, -0.05638493, -0.03766674, -0.03139821,  0.04597802,\n",
       "        -0.03553316,  0.01719889, -0.00546733, -0.04838888, -0.00073776,\n",
       "         0.00822598, -0.02829665,  0.02089925,  0.01520049, -0.06519277,\n",
       "        -0.02705507, -0.02992654, -0.0004201 , -0.03895971, -0.04985113,\n",
       "        -0.05138343, -0.05491984, -0.00774947, -0.05545625, -0.03217065,\n",
       "         0.03732833, -0.03450663, -0.06562285,  0.03972491,  0.0317953 ,\n",
       "        -0.00476609, -0.02582001, -0.01616276, -0.03199002, -0.0677493 ,\n",
       "        -0.03278536,  0.02465274,  0.02408122,  0.01636826, -0.0006742 ,\n",
       "        -0.04784743, -0.02769684,  0.00368566, -0.00568493, -0.04006253,\n",
       "        -0.08148948, -0.02649219, -0.05382125], dtype=float32),\n",
       " array([[ 1.34567901e-01],\n",
       "        [-8.90682340e-02],\n",
       "        [-4.01341207e-02],\n",
       "        [-1.06776796e-01],\n",
       "        [-2.44973958e-01],\n",
       "        [-3.28148417e-02],\n",
       "        [ 1.74361348e-01],\n",
       "        [ 1.55076653e-01],\n",
       "        [-2.45410860e-01],\n",
       "        [ 4.16835248e-02],\n",
       "        [ 1.32413179e-01],\n",
       "        [ 1.16452090e-01],\n",
       "        [-9.66463163e-02],\n",
       "        [-8.36829990e-02],\n",
       "        [ 1.52336180e-01],\n",
       "        [-7.62744769e-02],\n",
       "        [ 2.34655753e-01],\n",
       "        [-8.37953612e-02],\n",
       "        [-2.71256626e-01],\n",
       "        [-6.99197575e-02],\n",
       "        [ 2.76928633e-01],\n",
       "        [-3.39726150e-01],\n",
       "        [-2.02306792e-01],\n",
       "        [ 2.56649494e-01],\n",
       "        [-1.43902063e-01],\n",
       "        [ 1.62958145e-01],\n",
       "        [ 1.08923055e-01],\n",
       "        [-4.25935164e-03],\n",
       "        [-2.27144346e-01],\n",
       "        [ 2.22905166e-02],\n",
       "        [-1.88071251e-01],\n",
       "        [ 1.37760058e-01],\n",
       "        [ 1.11681856e-01],\n",
       "        [-1.98137790e-01],\n",
       "        [ 5.28358370e-02],\n",
       "        [-2.67203033e-01],\n",
       "        [-3.25505912e-01],\n",
       "        [-9.80832130e-02],\n",
       "        [-1.36493459e-01],\n",
       "        [-4.70387369e-01],\n",
       "        [ 5.06615750e-02],\n",
       "        [ 1.32953152e-01],\n",
       "        [-2.41831437e-01],\n",
       "        [ 1.87661871e-01],\n",
       "        [-1.13578914e-02],\n",
       "        [-1.68364227e-01],\n",
       "        [ 1.85039833e-01],\n",
       "        [-1.26985043e-01],\n",
       "        [ 1.58184350e-01],\n",
       "        [-2.22187877e-01],\n",
       "        [ 6.44535050e-02],\n",
       "        [-1.75158069e-01],\n",
       "        [-3.77501622e-02],\n",
       "        [ 2.13215575e-01],\n",
       "        [-1.84532359e-01],\n",
       "        [ 1.50812641e-01],\n",
       "        [-1.88613370e-01],\n",
       "        [-1.96816608e-01],\n",
       "        [-1.85972169e-01],\n",
       "        [ 1.26800269e-01],\n",
       "        [ 2.66592950e-01],\n",
       "        [ 1.57210648e-01],\n",
       "        [ 1.68376312e-01],\n",
       "        [ 1.52127847e-01],\n",
       "        [-2.02334613e-01],\n",
       "        [-1.41149670e-01],\n",
       "        [ 1.60581097e-01],\n",
       "        [-3.06107223e-01],\n",
       "        [-6.67935610e-02],\n",
       "        [-7.80273974e-02],\n",
       "        [-1.24091364e-01],\n",
       "        [ 1.47606388e-01],\n",
       "        [-9.38353036e-03],\n",
       "        [ 1.93160266e-01],\n",
       "        [-4.83009219e-02],\n",
       "        [-1.37346119e-01],\n",
       "        [ 2.43140250e-01],\n",
       "        [-1.82659522e-01],\n",
       "        [ 1.43819740e-02],\n",
       "        [ 7.57038444e-02],\n",
       "        [ 2.40653772e-02],\n",
       "        [-4.10005897e-01],\n",
       "        [-2.76719689e-01],\n",
       "        [ 2.83912048e-02],\n",
       "        [-5.95227182e-02],\n",
       "        [ 1.65273204e-01],\n",
       "        [-8.45322534e-02],\n",
       "        [-1.86351314e-02],\n",
       "        [-3.50929350e-02],\n",
       "        [-1.72494546e-01],\n",
       "        [ 1.51094511e-01],\n",
       "        [-2.07715631e-01],\n",
       "        [ 3.94917242e-02],\n",
       "        [-7.29233101e-02],\n",
       "        [-3.44493048e-04],\n",
       "        [ 7.14787766e-02],\n",
       "        [-1.84068099e-01],\n",
       "        [-1.01822652e-01],\n",
       "        [-2.07531661e-01],\n",
       "        [-5.01607209e-02],\n",
       "        [-3.92828584e-02],\n",
       "        [-2.91969687e-01],\n",
       "        [ 5.33453971e-02],\n",
       "        [-3.32204819e-01],\n",
       "        [-2.34854430e-01],\n",
       "        [ 2.06557527e-01],\n",
       "        [-1.94218159e-01],\n",
       "        [ 1.90082684e-01],\n",
       "        [-1.88509241e-01],\n",
       "        [-2.38822699e-01],\n",
       "        [-2.01669931e-01],\n",
       "        [ 1.85519144e-01],\n",
       "        [-2.79351771e-01],\n",
       "        [ 2.05372363e-01],\n",
       "        [-7.26788715e-02],\n",
       "        [ 2.87042439e-01],\n",
       "        [-2.44991750e-01],\n",
       "        [ 2.11172208e-01],\n",
       "        [ 1.51070759e-01],\n",
       "        [-1.22501485e-01],\n",
       "        [-3.35004330e-01],\n",
       "        [-1.04327060e-01],\n",
       "        [ 9.27815735e-02],\n",
       "        [ 1.41755462e-01],\n",
       "        [-4.50157002e-02],\n",
       "        [-1.86541378e-02],\n",
       "        [-1.94771856e-01],\n",
       "        [-9.11663994e-02]], dtype=float32),\n",
       " array([-0.7279737], dtype=float32)]"
      ]
     },
     "execution_count": 4,
     "metadata": {},
     "output_type": "execute_result"
    }
   ],
   "source": [
    "model.get_weights()"
   ]
  },
  {
   "cell_type": "code",
   "execution_count": 5,
   "metadata": {},
   "outputs": [],
   "source": [
    "# Step 2: Helper Functions\n",
    "# Function to decode reviews\n",
    "def decode_review(encoded_review):\n",
    "    return ' '.join([reverse_word_index.get(i - 3, '?') for i in encoded_review])\n",
    "\n",
    "# Function to preprocess user input\n",
    "def preprocess_text(text):\n",
    "    words = text.lower().split()\n",
    "    encoded_review = [word_index.get(word, 2) + 3 for word in words]\n",
    "    padded_review = sequence.pad_sequences([encoded_review], maxlen=500)\n",
    "    return padded_review"
   ]
  },
  {
   "cell_type": "code",
   "execution_count": 6,
   "metadata": {},
   "outputs": [],
   "source": [
    "### Prediction  function\n",
    "\n",
    "def predict_sentiment(review):\n",
    "    preprocessed_input=preprocess_text(review)\n",
    "\n",
    "    prediction=model.predict(preprocessed_input)\n",
    "\n",
    "    sentiment = 'Positive' if prediction[0][0] > 0.5 else 'Negative'\n",
    "    \n",
    "    return sentiment, prediction[0][0]\n",
    "\n"
   ]
  },
  {
   "cell_type": "code",
   "execution_count": 7,
   "metadata": {},
   "outputs": [
    {
     "name": "stdout",
     "output_type": "stream",
     "text": [
      "\u001b[1m1/1\u001b[0m \u001b[32m━━━━━━━━━━━━━━━━━━━━\u001b[0m\u001b[37m\u001b[0m \u001b[1m0s\u001b[0m 196ms/step\n",
      "Review: This movie was fantastic! The acting was great and the plot was thrilling.\n",
      "Sentiment: Positive\n",
      "Prediction Score: 0.9043563604354858\n"
     ]
    }
   ],
   "source": [
    "# Step 4: User Input and Prediction\n",
    "# Example review for prediction\n",
    "example_review = \"This movie was fantastic! The acting was great and the plot was thrilling.\"\n",
    "\n",
    "sentiment,score=predict_sentiment(example_review)\n",
    "\n",
    "print(f'Review: {example_review}')\n",
    "print(f'Sentiment: {sentiment}')\n",
    "print(f'Prediction Score: {score}')"
   ]
  }
 ],
 "metadata": {
  "kernelspec": {
   "display_name": "Python 3",
   "language": "python",
   "name": "python3"
  },
  "language_info": {
   "codemirror_mode": {
    "name": "ipython",
    "version": 3
   },
   "file_extension": ".py",
   "mimetype": "text/x-python",
   "name": "python",
   "nbconvert_exporter": "python",
   "pygments_lexer": "ipython3",
   "version": "3.11.9"
  }
 },
 "nbformat": 4,
 "nbformat_minor": 2
}
